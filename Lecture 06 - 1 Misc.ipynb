{
 "cells": [
  {
   "cell_type": "markdown",
   "metadata": {},
   "source": [
    "# Project Feedback\n",
    "\n",
    "- Introduction: What is the problem we're solving?\n",
    "- Description of the data.\n",
    "  - Size?\n",
    "  - Anything strange here?\n",
    "  - Balance?\n",
    "  - Implications for analysis.\n",
    "- Histograms: Better than just mean and standard deviation\n",
    "- Code:\n",
    "  - One thing per function\n",
    "  - Good names\n",
    "  - Re-use standard constructs (pipelines)\n",
    "  - Sone use git, that's a great idea!"
   ]
  },
  {
   "cell_type": "markdown",
   "metadata": {},
   "source": [
    "# Pre-EDA"
   ]
  },
  {
   "cell_type": "markdown",
   "metadata": {},
   "source": [
    "## A Project Begins\n",
    "\n",
    "- Someone has a *business problem*.\n",
    "- You're supposed to solve it.\n",
    "- Questions you might want to ask\n",
    "  - Do we have a good business case?\n",
    "    - Should we work on this or something else?\n",
    "      - Payoff?\n",
    "      - Strategic goal?\n",
    "  - How would a human solve this?\n",
    "    - Take time to understand this well!\n",
    "  - Do we have data?\n",
    "    - Quality?\n",
    "    - Recency?\n",
    "    - Are there good processes?\n",
    "  - Can we get data?\n",
    "    - Labeling can be bouught"
   ]
  },
  {
   "cell_type": "markdown",
   "metadata": {},
   "source": [
    "## Components of a Project\n",
    "\n",
    "- What people think\n",
    "  - EDA\n",
    "  - Modeling\n",
    "  - Preliminary results\n",
    "- Closer to the truth\n",
    "  - Data\n",
    "     - Ownership\n",
    "     - Compliance\n",
    "     - Legal\n",
    "     - Data management\n",
    "       - Architecture\n",
    "       - Temporal requirments\n",
    "       - Quality\n",
    "       - Data models\n",
    "  - EDA/MVP/Pilot\n",
    "     - Demonstrate feasibility\n",
    "     - Show business value\n",
    "  - A \"product\"\n",
    "     - Stable models\n",
    "       - Framework (AWS Sagemaker, Azure, Databricks, ...)\n",
    "         - Model (re-)training\n",
    "         - Model management\n",
    "         - Prediction engine\n",
    "         - Model QC\n",
    "     - A front-end/GUI\n",
    "     - A back-end\n",
    "     - Interfaces with other infrastructure (APIs)\n",
    "     - Other components (visualization, etc.)\n",
    "     "
   ]
  },
  {
   "cell_type": "markdown",
   "metadata": {},
   "source": [
    "## What is a good Data Science problem?\n",
    "\n",
    "For an \"interesting\" problem, you want\n",
    "\n",
    "- Quantity\n",
    "  - More data than humans can handle\n",
    "- Speed\n",
    "  - Decisions that have to be made quicker than humans could\n",
    "- Accuracy\n",
    "  - Find patterns that humans can't"
   ]
  },
  {
   "cell_type": "markdown",
   "metadata": {},
   "source": [
    "# Digitalization\n",
    "\n",
    "- Digital is not about doing what was always done with new tools\n",
    "- It's about re-thinking a whole business\n",
    "  - iPod / Streaming (Spotify, Netflix)\n",
    "  - Facebook\n",
    "  - Google\n",
    "  - Uber\n",
    "  - Airbnb\n",
    "  - Foodora"
   ]
  },
  {
   "cell_type": "code",
   "execution_count": null,
   "metadata": {},
   "outputs": [],
   "source": []
  }
 ],
 "metadata": {
  "kernelspec": {
   "display_name": "Python 3",
   "language": "python",
   "name": "python3"
  },
  "language_info": {
   "codemirror_mode": {
    "name": "ipython",
    "version": 3
   },
   "file_extension": ".py",
   "mimetype": "text/x-python",
   "name": "python",
   "nbconvert_exporter": "python",
   "pygments_lexer": "ipython3",
   "version": "3.7.4"
  }
 },
 "nbformat": 4,
 "nbformat_minor": 4
}
