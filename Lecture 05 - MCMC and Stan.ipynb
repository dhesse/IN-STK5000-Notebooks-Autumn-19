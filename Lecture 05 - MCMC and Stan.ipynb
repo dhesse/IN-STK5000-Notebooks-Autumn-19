{
 "cells": [
  {
   "cell_type": "code",
   "execution_count": 1,
   "metadata": {},
   "outputs": [],
   "source": [
    "import numpy"
   ]
  },
  {
   "cell_type": "markdown",
   "metadata": {},
   "source": [
    "# Bayesian Bootstrap"
   ]
  },
  {
   "cell_type": "code",
   "execution_count": 2,
   "metadata": {},
   "outputs": [],
   "source": [
    "N, k = 20, 2\n",
    "sigma = 4\n",
    "beta = numpy.random.uniform(1, 10, k)\n",
    "X = numpy.random.uniform(1,  10, (N, k))\n",
    "X[:,0] = 1\n",
    "y = numpy.dot(X, beta) + numpy.random.normal(0, sigma, N)"
   ]
  },
  {
   "cell_type": "code",
   "execution_count": 3,
   "metadata": {},
   "outputs": [],
   "source": [
    "import matplotlib.pyplot as plt\n",
    "%matplotlib inline"
   ]
  },
  {
   "cell_type": "code",
   "execution_count": 4,
   "metadata": {},
   "outputs": [
    {
     "data": {
      "text/plain": [
       "<matplotlib.collections.PathCollection at 0x111edbbd0>"
      ]
     },
     "execution_count": 4,
     "metadata": {},
     "output_type": "execute_result"
    },
    {
     "data": {
      "image/png": "[encoded data removed]",
      "text/plain": [
       "<Figure size 432x288 with 1 Axes>"
      ]
     },
     "metadata": {
      "needs_background": "light"
     },
     "output_type": "display_data"
    }
   ],
   "source": [
    "plt.scatter(X[:, 1], y)"
   ]
  },
  {
   "cell_type": "code",
   "execution_count": 5,
   "metadata": {},
   "outputs": [
    {
     "data": {
      "text/plain": [
       "array([5.27973598, 4.43899676])"
      ]
     },
     "execution_count": 5,
     "metadata": {},
     "output_type": "execute_result"
    }
   ],
   "source": [
    "beta"
   ]
  },
  {
   "cell_type": "code",
   "execution_count": 6,
   "metadata": {},
   "outputs": [],
   "source": [
    "from sklearn.linear_model import LinearRegression"
   ]
  },
  {
   "cell_type": "code",
   "execution_count": 7,
   "metadata": {},
   "outputs": [],
   "source": [
    "model = LinearRegression(fit_intercept=False).fit(X, y)"
   ]
  },
  {
   "cell_type": "code",
   "execution_count": 8,
   "metadata": {},
   "outputs": [
    {
     "data": {
      "text/plain": [
       "array([4.296919  , 4.79013201])"
      ]
     },
     "execution_count": 8,
     "metadata": {},
     "output_type": "execute_result"
    }
   ],
   "source": [
    "model.coef_"
   ]
  },
  {
   "cell_type": "code",
   "execution_count": 9,
   "metadata": {},
   "outputs": [],
   "source": [
    "from sklearn.utils import resample"
   ]
  },
  {
   "cell_type": "code",
   "execution_count": 11,
   "metadata": {},
   "outputs": [],
   "source": [
    "N_bs = 1000\n",
    "coef = []\n",
    "for _ in range(N_bs):\n",
    "    coef.append(LinearRegression(fit_intercept=False).fit(*resample(X, y)).coef_)"
   ]
  },
  {
   "cell_type": "code",
   "execution_count": 13,
   "metadata": {},
   "outputs": [
    {
     "data": {
      "text/plain": [
       "(array([  5.,  12.,  22.,  42.,  64.,  98.,  98.,  99., 125.,  92., 107.,\n",
       "         58.,  61.,  37.,  23.,  17.,  25.,   8.,   6.,   1.]),\n",
       " array([-1.83795735, -1.1004913 , -0.36302526,  0.37444079,  1.11190683,\n",
       "         1.84937288,  2.58683893,  3.32430497,  4.06177102,  4.79923707,\n",
       "         5.53670311,  6.27416916,  7.0116352 ,  7.74910125,  8.4865673 ,\n",
       "         9.22403334,  9.96149939, 10.69896543, 11.43643148, 12.17389753,\n",
       "        12.91136357]),\n",
       " <a list of 20 Patch objects>)"
      ]
     },
     "execution_count": 13,
     "metadata": {},
     "output_type": "execute_result"
    },
    {
     "data": {
      "image/png": "[encoded data removed]",
      "text/plain": [
       "<Figure size 432x288 with 1 Axes>"
      ]
     },
     "metadata": {
      "needs_background": "light"
     },
     "output_type": "display_data"
    }
   ],
   "source": [
    "plt.hist([c[0] for c in coef], bins=20)"
   ]
  },
  {
   "cell_type": "code",
   "execution_count": 14,
   "metadata": {},
   "outputs": [],
   "source": [
    "import statsmodels.api as stm"
   ]
  },
  {
   "cell_type": "code",
   "execution_count": 17,
   "metadata": {},
   "outputs": [
    {
     "data": {
      "text/html": [
       "<table class=\"simpletable\">\n",
       "<caption>OLS Regression Results</caption>\n",
       "<tr>\n",
       "  <th>Dep. Variable:</th>            <td>y</td>        <th>  R-squared:         </th> <td>   0.903</td>\n",
       "</tr>\n",
       "<tr>\n",
       "  <th>Model:</th>                   <td>OLS</td>       <th>  Adj. R-squared:    </th> <td>   0.897</td>\n",
       "</tr>\n",
       "<tr>\n",
       "  <th>Method:</th>             <td>Least Squares</td>  <th>  F-statistic:       </th> <td>   166.8</td>\n",
       "</tr>\n",
       "<tr>\n",
       "  <th>Date:</th>             <td>Thu, 17 Oct 2019</td> <th>  Prob (F-statistic):</th> <td>1.53e-10</td>\n",
       "</tr>\n",
       "<tr>\n",
       "  <th>Time:</th>                 <td>08:30:52</td>     <th>  Log-Likelihood:    </th> <td> -52.658</td>\n",
       "</tr>\n",
       "<tr>\n",
       "  <th>No. Observations:</th>      <td>    20</td>      <th>  AIC:               </th> <td>   109.3</td>\n",
       "</tr>\n",
       "<tr>\n",
       "  <th>Df Residuals:</th>          <td>    18</td>      <th>  BIC:               </th> <td>   111.3</td>\n",
       "</tr>\n",
       "<tr>\n",
       "  <th>Df Model:</th>              <td>     1</td>      <th>                     </th>     <td> </td>   \n",
       "</tr>\n",
       "<tr>\n",
       "  <th>Covariance Type:</th>      <td>nonrobust</td>    <th>                     </th>     <td> </td>   \n",
       "</tr>\n",
       "</table>\n",
       "<table class=\"simpletable\">\n",
       "<tr>\n",
       "    <td></td>       <th>coef</th>     <th>std err</th>      <th>t</th>      <th>P>|t|</th>  <th>[0.025</th>    <th>0.975]</th>  \n",
       "</tr>\n",
       "<tr>\n",
       "  <th>const</th> <td>    4.2969</td> <td>    2.164</td> <td>    1.986</td> <td> 0.063</td> <td>   -0.249</td> <td>    8.843</td>\n",
       "</tr>\n",
       "<tr>\n",
       "  <th>x1</th>    <td>    4.7901</td> <td>    0.371</td> <td>   12.915</td> <td> 0.000</td> <td>    4.011</td> <td>    5.569</td>\n",
       "</tr>\n",
       "</table>\n",
       "<table class=\"simpletable\">\n",
       "<tr>\n",
       "  <th>Omnibus:</th>       <td> 0.333</td> <th>  Durbin-Watson:     </th> <td>   1.549</td>\n",
       "</tr>\n",
       "<tr>\n",
       "  <th>Prob(Omnibus):</th> <td> 0.847</td> <th>  Jarque-Bera (JB):  </th> <td>   0.121</td>\n",
       "</tr>\n",
       "<tr>\n",
       "  <th>Skew:</th>          <td>-0.176</td> <th>  Prob(JB):          </th> <td>   0.941</td>\n",
       "</tr>\n",
       "<tr>\n",
       "  <th>Kurtosis:</th>      <td> 2.852</td> <th>  Cond. No.          </th> <td>    16.3</td>\n",
       "</tr>\n",
       "</table><br/><br/>Warnings:<br/>[1] Standard Errors assume that the covariance matrix of the errors is correctly specified."
      ],
      "text/plain": [
       "<class 'statsmodels.iolib.summary.Summary'>\n",
       "\"\"\"\n",
       "                            OLS Regression Results                            \n",
       "==============================================================================\n",
       "Dep. Variable:                      y   R-squared:                       0.903\n",
       "Model:                            OLS   Adj. R-squared:                  0.897\n",
       "Method:                 Least Squares   F-statistic:                     166.8\n",
       "Date:                Thu, 17 Oct 2019   Prob (F-statistic):           1.53e-10\n",
       "Time:                        08:30:52   Log-Likelihood:                -52.658\n",
       "No. Observations:                  20   AIC:                             109.3\n",
       "Df Residuals:                      18   BIC:                             111.3\n",
       "Df Model:                           1                                         \n",
       "Covariance Type:            nonrobust                                         \n",
       "==============================================================================\n",
       "                 coef    std err          t      P>|t|      [0.025      0.975]\n",
       "------------------------------------------------------------------------------\n",
       "const          4.2969      2.164      1.986      0.063      -0.249       8.843\n",
       "x1             4.7901      0.371     12.915      0.000       4.011       5.569\n",
       "==============================================================================\n",
       "Omnibus:                        0.333   Durbin-Watson:                   1.549\n",
       "Prob(Omnibus):                  0.847   Jarque-Bera (JB):                0.121\n",
       "Skew:                          -0.176   Prob(JB):                        0.941\n",
       "Kurtosis:                       2.852   Cond. No.                         16.3\n",
       "==============================================================================\n",
       "\n",
       "Warnings:\n",
       "[1] Standard Errors assume that the covariance matrix of the errors is correctly specified.\n",
       "\"\"\""
      ]
     },
     "execution_count": 17,
     "metadata": {},
     "output_type": "execute_result"
    }
   ],
   "source": [
    "stm.OLS(y, X).fit().summary()"
   ]
  },
  {
   "cell_type": "code",
   "execution_count": 18,
   "metadata": {},
   "outputs": [
    {
     "data": {
      "text/plain": [
       "array([ 0.04312172,  4.35928423, 10.31491729])"
      ]
     },
     "execution_count": 18,
     "metadata": {},
     "output_type": "execute_result"
    }
   ],
   "source": [
    "numpy.quantile([[c[0] for c in coef]], [0.025, 0.5, .975])"
   ]
  },
  {
   "cell_type": "code",
   "execution_count": 20,
   "metadata": {},
   "outputs": [
    {
     "data": {
      "text/plain": [
       "array([3.88466524, 4.76517885, 5.65714725])"
      ]
     },
     "execution_count": 20,
     "metadata": {},
     "output_type": "execute_result"
    }
   ],
   "source": [
    "numpy.quantile([[c[1] for c in coef]], [0.025, 0.5, .975])"
   ]
  },
  {
   "cell_type": "markdown",
   "metadata": {},
   "source": [
    "# Full Bayesian, with MCMC"
   ]
  },
  {
   "cell_type": "code",
   "execution_count": 22,
   "metadata": {},
   "outputs": [],
   "source": [
    "N, k = 20, 3\n",
    "sigma = 4\n",
    "theta = numpy.random.uniform(1, 10, k)\n",
    "X = numpy.random.uniform(1,  10, (N, k))\n",
    "y = numpy.dot(X, theta) + numpy.random.normal(0, sigma, N)"
   ]
  },
  {
   "cell_type": "markdown",
   "metadata": {},
   "source": [
    "We start off by taking $\\sigma$ as a given and simulate $\\theta$"
   ]
  },
  {
   "cell_type": "code",
   "execution_count": 106,
   "metadata": {},
   "outputs": [],
   "source": [
    "thetas = []\n",
    "accept = []\n",
    "theta_t = numpy.ones(k)\n",
    "step_size = 0.1\n",
    "for _ in range(5000):\n",
    "    for i in range(k):\n",
    "        theta_p = theta_t.copy()\n",
    "        theta_p[i] += numpy.random.normal(0, 0.1)\n",
    "        alpha = numpy.exp(-(numpy.sum((y - numpy.dot(X, theta_p))**2) \n",
    "                          - numpy.sum((y - numpy.dot(X, theta_t))**2)) / sigma**2 / 2)\n",
    "        if numpy.random.uniform(0, 1) <= alpha:\n",
    "            theta_t = theta_p\n",
    "            accept.append(True)\n",
    "        else:\n",
    "            accept.append(False)\n",
    "    thetas.append(theta_t)"
   ]
  },
  {
   "cell_type": "code",
   "execution_count": 25,
   "metadata": {},
   "outputs": [
    {
     "data": {
      "text/plain": [
       "[<matplotlib.lines.Line2D at 0x124ce7dd0>,\n",
       " <matplotlib.lines.Line2D at 0x124cce510>,\n",
       " <matplotlib.lines.Line2D at 0x124cce8d0>]"
      ]
     },
     "execution_count": 25,
     "metadata": {},
     "output_type": "execute_result"
    },
    {
     "data": {
      "image/png": "[encoded data removed]",
      "text/plain": [
       "<Figure size 432x288 with 1 Axes>"
      ]
     },
     "metadata": {
      "needs_background": "light"
     },
     "output_type": "display_data"
    }
   ],
   "source": [
    "plt.plot(thetas)"
   ]
  },
  {
   "cell_type": "code",
   "execution_count": 113,
   "metadata": {},
   "outputs": [
    {
     "data": {
      "text/plain": [
       "0.8832631578947369"
      ]
     },
     "execution_count": 113,
     "metadata": {},
     "output_type": "execute_result"
    }
   ],
   "source": [
    "# acceptance rate\n",
    "# you can experiment with the step size to see what it does to\n",
    "# the acceptance rate\n",
    "numpy.mean(accept[500*3:])"
   ]
  },
  {
   "cell_type": "code",
   "execution_count": 26,
   "metadata": {},
   "outputs": [
    {
     "data": {
      "text/plain": [
       "array([3.01477415, 7.21168014, 7.05265419])"
      ]
     },
     "execution_count": 26,
     "metadata": {},
     "output_type": "execute_result"
    }
   ],
   "source": [
    "theta"
   ]
  },
  {
   "cell_type": "code",
   "execution_count": 27,
   "metadata": {},
   "outputs": [
    {
     "data": {
      "text/html": [
       "<table class=\"simpletable\">\n",
       "<caption>OLS Regression Results</caption>\n",
       "<tr>\n",
       "  <th>Dep. Variable:</th>            <td>y</td>        <th>  R-squared (uncentered):</th>      <td>   0.999</td>\n",
       "</tr>\n",
       "<tr>\n",
       "  <th>Model:</th>                   <td>OLS</td>       <th>  Adj. R-squared (uncentered):</th> <td>   0.999</td>\n",
       "</tr>\n",
       "<tr>\n",
       "  <th>Method:</th>             <td>Least Squares</td>  <th>  F-statistic:       </th>          <td>   6490.</td>\n",
       "</tr>\n",
       "<tr>\n",
       "  <th>Date:</th>             <td>Thu, 17 Oct 2019</td> <th>  Prob (F-statistic):</th>          <td>3.40e-26</td>\n",
       "</tr>\n",
       "<tr>\n",
       "  <th>Time:</th>                 <td>08:53:43</td>     <th>  Log-Likelihood:    </th>          <td> -50.151</td>\n",
       "</tr>\n",
       "<tr>\n",
       "  <th>No. Observations:</th>      <td>    20</td>      <th>  AIC:               </th>          <td>   106.3</td>\n",
       "</tr>\n",
       "<tr>\n",
       "  <th>Df Residuals:</th>          <td>    17</td>      <th>  BIC:               </th>          <td>   109.3</td>\n",
       "</tr>\n",
       "<tr>\n",
       "  <th>Df Model:</th>              <td>     3</td>      <th>                     </th>              <td> </td>   \n",
       "</tr>\n",
       "<tr>\n",
       "  <th>Covariance Type:</th>      <td>nonrobust</td>    <th>                     </th>              <td> </td>   \n",
       "</tr>\n",
       "</table>\n",
       "<table class=\"simpletable\">\n",
       "<tr>\n",
       "   <td></td>     <th>coef</th>     <th>std err</th>      <th>t</th>      <th>P>|t|</th>  <th>[0.025</th>    <th>0.975]</th>  \n",
       "</tr>\n",
       "<tr>\n",
       "  <th>x1</th> <td>    3.2622</td> <td>    0.265</td> <td>   12.290</td> <td> 0.000</td> <td>    2.702</td> <td>    3.822</td>\n",
       "</tr>\n",
       "<tr>\n",
       "  <th>x2</th> <td>    6.3896</td> <td>    0.277</td> <td>   23.088</td> <td> 0.000</td> <td>    5.806</td> <td>    6.973</td>\n",
       "</tr>\n",
       "<tr>\n",
       "  <th>x3</th> <td>    7.6281</td> <td>    0.303</td> <td>   25.214</td> <td> 0.000</td> <td>    6.990</td> <td>    8.266</td>\n",
       "</tr>\n",
       "</table>\n",
       "<table class=\"simpletable\">\n",
       "<tr>\n",
       "  <th>Omnibus:</th>       <td> 0.183</td> <th>  Durbin-Watson:     </th> <td>   1.870</td>\n",
       "</tr>\n",
       "<tr>\n",
       "  <th>Prob(Omnibus):</th> <td> 0.912</td> <th>  Jarque-Bera (JB):  </th> <td>   0.191</td>\n",
       "</tr>\n",
       "<tr>\n",
       "  <th>Skew:</th>          <td> 0.175</td> <th>  Prob(JB):          </th> <td>   0.909</td>\n",
       "</tr>\n",
       "<tr>\n",
       "  <th>Kurtosis:</th>      <td> 2.673</td> <th>  Cond. No.          </th> <td>    5.13</td>\n",
       "</tr>\n",
       "</table><br/><br/>Warnings:<br/>[1] Standard Errors assume that the covariance matrix of the errors is correctly specified."
      ],
      "text/plain": [
       "<class 'statsmodels.iolib.summary.Summary'>\n",
       "\"\"\"\n",
       "                                 OLS Regression Results                                \n",
       "=======================================================================================\n",
       "Dep. Variable:                      y   R-squared (uncentered):                   0.999\n",
       "Model:                            OLS   Adj. R-squared (uncentered):              0.999\n",
       "Method:                 Least Squares   F-statistic:                              6490.\n",
       "Date:                Thu, 17 Oct 2019   Prob (F-statistic):                    3.40e-26\n",
       "Time:                        08:53:43   Log-Likelihood:                         -50.151\n",
       "No. Observations:                  20   AIC:                                      106.3\n",
       "Df Residuals:                      17   BIC:                                      109.3\n",
       "Df Model:                           3                                                  \n",
       "Covariance Type:            nonrobust                                                  \n",
       "==============================================================================\n",
       "                 coef    std err          t      P>|t|      [0.025      0.975]\n",
       "------------------------------------------------------------------------------\n",
       "x1             3.2622      0.265     12.290      0.000       2.702       3.822\n",
       "x2             6.3896      0.277     23.088      0.000       5.806       6.973\n",
       "x3             7.6281      0.303     25.214      0.000       6.990       8.266\n",
       "==============================================================================\n",
       "Omnibus:                        0.183   Durbin-Watson:                   1.870\n",
       "Prob(Omnibus):                  0.912   Jarque-Bera (JB):                0.191\n",
       "Skew:                           0.175   Prob(JB):                        0.909\n",
       "Kurtosis:                       2.673   Cond. No.                         5.13\n",
       "==============================================================================\n",
       "\n",
       "Warnings:\n",
       "[1] Standard Errors assume that the covariance matrix of the errors is correctly specified.\n",
       "\"\"\""
      ]
     },
     "execution_count": 27,
     "metadata": {},
     "output_type": "execute_result"
    }
   ],
   "source": [
    "stm.OLS(y, X).fit().summary()"
   ]
  },
  {
   "cell_type": "markdown",
   "metadata": {},
   "source": [
    "The MCMC results should coincide with the OLS results."
   ]
  },
  {
   "cell_type": "code",
   "execution_count": 28,
   "metadata": {},
   "outputs": [
    {
     "name": "stdout",
     "output_type": "stream",
     "text": [
      "0 [2.63979096 3.3175419  4.11019566]\n",
      "1 [5.66539844 6.30985693 6.91585559]\n",
      "2 [6.96432932 7.68915499 8.35996125]\n"
     ]
    }
   ],
   "source": [
    "for i in range(k):\n",
    "    print(i, numpy.quantile([t[i] for t in thetas[500:]], [.025,.5,.975]))"
   ]
  },
  {
   "cell_type": "code",
   "execution_count": 29,
   "metadata": {},
   "outputs": [],
   "source": [
    "fit = LinearRegression(fit_intercept=False).fit(X, y)"
   ]
  },
  {
   "cell_type": "code",
   "execution_count": 32,
   "metadata": {},
   "outputs": [
    {
     "data": {
      "text/plain": [
       "<matplotlib.collections.PathCollection at 0x1254c7910>"
      ]
     },
     "execution_count": 32,
     "metadata": {},
     "output_type": "execute_result"
    },
    {
     "data": {
      "image/png": "[encoded data removed]",
      "text/plain": [
       "<Figure size 432x288 with 1 Axes>"
      ]
     },
     "metadata": {
      "needs_background": "light"
     },
     "output_type": "display_data"
    }
   ],
   "source": [
    "plt.scatter(X[:,0], fit.predict(X) - y)"
   ]
  },
  {
   "cell_type": "markdown",
   "metadata": {},
   "source": [
    "## Simulating $\\sigma$\n",
    "\n",
    "MCMC is not always stable, simulating $\\sigma$ brings its own set of issues."
   ]
  },
  {
   "cell_type": "code",
   "execution_count": 129,
   "metadata": {},
   "outputs": [
    {
     "name": "stderr",
     "output_type": "stream",
     "text": [
      "/Users/dirk/.venv/p3/lib/python3.7/site-packages/ipykernel_launcher.py:22: RuntimeWarning: overflow encountered in exp\n",
      "/Users/dirk/.venv/p3/lib/python3.7/site-packages/ipykernel_launcher.py:10: RuntimeWarning: overflow encountered in exp\n",
      "  # Remove the CWD from sys.path while we load stuff.\n"
     ]
    }
   ],
   "source": [
    "thetas, sigmas, accept, accept_sigma = [], [], [], []\n",
    "theta_t = numpy.ones(k)\n",
    "sigma_t = 1\n",
    "step_size = 0.05\n",
    "for _ in range(10000):\n",
    "    for i in range(k):\n",
    "        theta_p = theta_t.copy()\n",
    "        theta_p[i] += numpy.random.normal(0, step_size)\n",
    "        alpha = numpy.exp(-(numpy.sum((y - numpy.dot(X, theta_p))**2) \n",
    "                          - numpy.sum((y - numpy.dot(X, theta_t))**2)) / sigma_t**2 / 2)\n",
    "        if numpy.random.uniform(0, 1) <= alpha:\n",
    "            theta_t = theta_p\n",
    "            accept.append(True)\n",
    "        else:\n",
    "            accept.append(False)\n",
    "    # choose a steps size for sigma that's a factor\n",
    "    # 4 smaller than the one for theta, by experimentation\n",
    "    # There are methods available that adapt the step size\n",
    "    # automatically according to accept rate.\n",
    "    sigma_p = sigma_t + numpy.random.normal(0, step_size/4)\n",
    "    alpha = sigma_t / sigma_p * numpy.exp(-numpy.sum((y - numpy.dot(X, theta_t))**2) / sigma_p**2 / 2\n",
    "                          + numpy.sum((y - numpy.dot(X, theta_t))**2) / sigma_t**2 / 2)\n",
    "    if numpy.random.uniform(0, 1) <= alpha:\n",
    "        sigma_t = sigma_p\n",
    "        accept_sigma.append(True)\n",
    "    else:\n",
    "        accept_sigma.append(False)\n",
    "    thetas.append(theta_t)\n",
    "    sigmas.append(sigma_t)"
   ]
  },
  {
   "cell_type": "code",
   "execution_count": 130,
   "metadata": {},
   "outputs": [
    {
     "data": {
      "text/plain": [
       "[<matplotlib.lines.Line2D at 0x12e543550>]"
      ]
     },
     "execution_count": 130,
     "metadata": {},
     "output_type": "execute_result"
    },
    {
     "data": {
      "image/png": "[encoded data removed]",
      "text/plain": [
       "<Figure size 432x288 with 1 Axes>"
      ]
     },
     "metadata": {
      "needs_background": "light"
     },
     "output_type": "display_data"
    }
   ],
   "source": [
    "plt.plot(sigmas)"
   ]
  },
  {
   "cell_type": "code",
   "execution_count": 131,
   "metadata": {},
   "outputs": [
    {
     "data": {
      "text/plain": [
       "0.9928"
      ]
     },
     "execution_count": 131,
     "metadata": {},
     "output_type": "execute_result"
    }
   ],
   "source": [
    "numpy.mean(accept_sigma[5000:])"
   ]
  },
  {
   "cell_type": "code",
   "execution_count": 132,
   "metadata": {},
   "outputs": [
    {
     "data": {
      "text/plain": [
       "[<matplotlib.lines.Line2D at 0x128505150>,\n",
       " <matplotlib.lines.Line2D at 0x12e6f8390>,\n",
       " <matplotlib.lines.Line2D at 0x12e6f8550>]"
      ]
     },
     "execution_count": 132,
     "metadata": {},
     "output_type": "execute_result"
    },
    {
     "data": {
      "image/png": "[encoded data removed]",
      "text/plain": [
       "<Figure size 432x288 with 1 Axes>"
      ]
     },
     "metadata": {
      "needs_background": "light"
     },
     "output_type": "display_data"
    }
   ],
   "source": [
    "plt.plot(thetas)"
   ]
  },
  {
   "cell_type": "code",
   "execution_count": 133,
   "metadata": {},
   "outputs": [
    {
     "data": {
      "text/plain": [
       "0.9121333333333334"
      ]
     },
     "execution_count": 133,
     "metadata": {},
     "output_type": "execute_result"
    }
   ],
   "source": [
    "numpy.mean(accept[5000*3:])"
   ]
  },
  {
   "cell_type": "code",
   "execution_count": 134,
   "metadata": {},
   "outputs": [
    {
     "data": {
      "image/png": "[encoded data removed]",
      "text/plain": [
       "<Figure size 432x288 with 1 Axes>"
      ]
     },
     "metadata": {
      "needs_background": "light"
     },
     "output_type": "display_data"
    }
   ],
   "source": [
    "plt.hist(sigmas[5000:], bins=50)\n",
    "None"
   ]
  },
  {
   "cell_type": "code",
   "execution_count": 51,
   "metadata": {},
   "outputs": [
    {
     "name": "stdout",
     "output_type": "stream",
     "text": [
      "0 [2.73530895 3.19330392 3.73411344]\n",
      "1 [5.90406316 6.47777005 7.07848784]\n",
      "2 [6.90765944 7.58556953 8.35045567]\n"
     ]
    }
   ],
   "source": [
    "for i in range(k):\n",
    "    print(i, numpy.quantile([t[i] for t in thetas[1000:]], [.025,.5,.975]))"
   ]
  },
  {
   "cell_type": "code",
   "execution_count": 52,
   "metadata": {},
   "outputs": [
    {
     "data": {
      "text/html": [
       "<table class=\"simpletable\">\n",
       "<caption>OLS Regression Results</caption>\n",
       "<tr>\n",
       "  <th>Dep. Variable:</th>            <td>y</td>        <th>  R-squared (uncentered):</th>      <td>   0.999</td>\n",
       "</tr>\n",
       "<tr>\n",
       "  <th>Model:</th>                   <td>OLS</td>       <th>  Adj. R-squared (uncentered):</th> <td>   0.999</td>\n",
       "</tr>\n",
       "<tr>\n",
       "  <th>Method:</th>             <td>Least Squares</td>  <th>  F-statistic:       </th>          <td>   6490.</td>\n",
       "</tr>\n",
       "<tr>\n",
       "  <th>Date:</th>             <td>Thu, 17 Oct 2019</td> <th>  Prob (F-statistic):</th>          <td>3.40e-26</td>\n",
       "</tr>\n",
       "<tr>\n",
       "  <th>Time:</th>                 <td>09:27:12</td>     <th>  Log-Likelihood:    </th>          <td> -50.151</td>\n",
       "</tr>\n",
       "<tr>\n",
       "  <th>No. Observations:</th>      <td>    20</td>      <th>  AIC:               </th>          <td>   106.3</td>\n",
       "</tr>\n",
       "<tr>\n",
       "  <th>Df Residuals:</th>          <td>    17</td>      <th>  BIC:               </th>          <td>   109.3</td>\n",
       "</tr>\n",
       "<tr>\n",
       "  <th>Df Model:</th>              <td>     3</td>      <th>                     </th>              <td> </td>   \n",
       "</tr>\n",
       "<tr>\n",
       "  <th>Covariance Type:</th>      <td>nonrobust</td>    <th>                     </th>              <td> </td>   \n",
       "</tr>\n",
       "</table>\n",
       "<table class=\"simpletable\">\n",
       "<tr>\n",
       "   <td></td>     <th>coef</th>     <th>std err</th>      <th>t</th>      <th>P>|t|</th>  <th>[0.025</th>    <th>0.975]</th>  \n",
       "</tr>\n",
       "<tr>\n",
       "  <th>x1</th> <td>    3.2622</td> <td>    0.265</td> <td>   12.290</td> <td> 0.000</td> <td>    2.702</td> <td>    3.822</td>\n",
       "</tr>\n",
       "<tr>\n",
       "  <th>x2</th> <td>    6.3896</td> <td>    0.277</td> <td>   23.088</td> <td> 0.000</td> <td>    5.806</td> <td>    6.973</td>\n",
       "</tr>\n",
       "<tr>\n",
       "  <th>x3</th> <td>    7.6281</td> <td>    0.303</td> <td>   25.214</td> <td> 0.000</td> <td>    6.990</td> <td>    8.266</td>\n",
       "</tr>\n",
       "</table>\n",
       "<table class=\"simpletable\">\n",
       "<tr>\n",
       "  <th>Omnibus:</th>       <td> 0.183</td> <th>  Durbin-Watson:     </th> <td>   1.870</td>\n",
       "</tr>\n",
       "<tr>\n",
       "  <th>Prob(Omnibus):</th> <td> 0.912</td> <th>  Jarque-Bera (JB):  </th> <td>   0.191</td>\n",
       "</tr>\n",
       "<tr>\n",
       "  <th>Skew:</th>          <td> 0.175</td> <th>  Prob(JB):          </th> <td>   0.909</td>\n",
       "</tr>\n",
       "<tr>\n",
       "  <th>Kurtosis:</th>      <td> 2.673</td> <th>  Cond. No.          </th> <td>    5.13</td>\n",
       "</tr>\n",
       "</table><br/><br/>Warnings:<br/>[1] Standard Errors assume that the covariance matrix of the errors is correctly specified."
      ],
      "text/plain": [
       "<class 'statsmodels.iolib.summary.Summary'>\n",
       "\"\"\"\n",
       "                                 OLS Regression Results                                \n",
       "=======================================================================================\n",
       "Dep. Variable:                      y   R-squared (uncentered):                   0.999\n",
       "Model:                            OLS   Adj. R-squared (uncentered):              0.999\n",
       "Method:                 Least Squares   F-statistic:                              6490.\n",
       "Date:                Thu, 17 Oct 2019   Prob (F-statistic):                    3.40e-26\n",
       "Time:                        09:27:12   Log-Likelihood:                         -50.151\n",
       "No. Observations:                  20   AIC:                                      106.3\n",
       "Df Residuals:                      17   BIC:                                      109.3\n",
       "Df Model:                           3                                                  \n",
       "Covariance Type:            nonrobust                                                  \n",
       "==============================================================================\n",
       "                 coef    std err          t      P>|t|      [0.025      0.975]\n",
       "------------------------------------------------------------------------------\n",
       "x1             3.2622      0.265     12.290      0.000       2.702       3.822\n",
       "x2             6.3896      0.277     23.088      0.000       5.806       6.973\n",
       "x3             7.6281      0.303     25.214      0.000       6.990       8.266\n",
       "==============================================================================\n",
       "Omnibus:                        0.183   Durbin-Watson:                   1.870\n",
       "Prob(Omnibus):                  0.912   Jarque-Bera (JB):                0.191\n",
       "Skew:                           0.175   Prob(JB):                        0.909\n",
       "Kurtosis:                       2.673   Cond. No.                         5.13\n",
       "==============================================================================\n",
       "\n",
       "Warnings:\n",
       "[1] Standard Errors assume that the covariance matrix of the errors is correctly specified.\n",
       "\"\"\""
      ]
     },
     "execution_count": 52,
     "metadata": {},
     "output_type": "execute_result"
    }
   ],
   "source": [
    "stm.OLS(y, X).fit().summary()"
   ]
  },
  {
   "cell_type": "code",
   "execution_count": 54,
   "metadata": {},
   "outputs": [
    {
     "data": {
      "text/plain": [
       "array([3.67166195, 3.90787114, 4.196883  ])"
      ]
     },
     "execution_count": 54,
     "metadata": {},
     "output_type": "execute_result"
    }
   ],
   "source": [
    "numpy.quantile(sigmas[5000:], [.025,.5,.975])"
   ]
  },
  {
   "cell_type": "markdown",
   "metadata": {},
   "source": [
    "# Stan"
   ]
  },
  {
   "cell_type": "code",
   "execution_count": null,
   "metadata": {},
   "outputs": [],
   "source": [
    "# conda install pystan cython"
   ]
  },
  {
   "cell_type": "code",
   "execution_count": 55,
   "metadata": {},
   "outputs": [],
   "source": [
    "import pystan"
   ]
  },
  {
   "cell_type": "code",
   "execution_count": 60,
   "metadata": {},
   "outputs": [],
   "source": [
    "lr_code = \"\"\"\n",
    "data {\n",
    "    int<lower=0> N;\n",
    "    int<lower=0> k;\n",
    "    matrix[N, k] X;\n",
    "    vector[N] y;\n",
    "}\n",
    "parameters {\n",
    "    vector[k] theta;\n",
    "    real<lower=0> sigma;\n",
    "}\n",
    "model {\n",
    "    y ~ normal(X * theta, sigma);\n",
    "}\n",
    "\"\"\""
   ]
  },
  {
   "cell_type": "code",
   "execution_count": 61,
   "metadata": {},
   "outputs": [
    {
     "name": "stderr",
     "output_type": "stream",
     "text": [
      "INFO:pystan:COMPILING THE C++ CODE FOR MODEL anon_model_8f8df8368adedfbaba78a2b6f661755d NOW.\n"
     ]
    }
   ],
   "source": [
    "lr_model = pystan.StanModel(model_code=lr_code)\n"
   ]
  },
  {
   "cell_type": "code",
   "execution_count": 63,
   "metadata": {},
   "outputs": [],
   "source": [
    "fit = lr_model.sampling(data={'X': X, 'y': y, 'N': N, 'k': k}, iter=1000, chains=4)"
   ]
  },
  {
   "cell_type": "code",
   "execution_count": 64,
   "metadata": {},
   "outputs": [],
   "source": [
    "results = fit.extract(['theta', 'sigma'])"
   ]
  },
  {
   "cell_type": "code",
   "execution_count": 65,
   "metadata": {},
   "outputs": [
    {
     "name": "stdout",
     "output_type": "stream",
     "text": [
      "Inference for Stan model: anon_model_8f8df8368adedfbaba78a2b6f661755d.\n",
      "4 chains, each with iter=1000; warmup=500; thin=1; \n",
      "post-warmup draws per chain=500, total post-warmup draws=2000.\n",
      "\n",
      "           mean se_mean     sd   2.5%    25%    50%    75%  97.5%  n_eff   Rhat\n",
      "theta[1]   3.26  7.9e-3    0.3   2.64   3.07   3.27   3.46   3.84   1468    1.0\n",
      "theta[2]   6.38  9.3e-3   0.32   5.73   6.17   6.38   6.58   7.02   1178    1.0\n",
      "theta[3]   7.64    0.01   0.35   6.97   7.43   7.63   7.86   8.36   1139    1.0\n",
      "sigma      3.51    0.02   0.66   2.49   3.06   3.42   3.87   5.06   1041    1.0\n",
      "lp__     -33.02    0.06   1.65 -37.43 -33.82  -32.7 -31.82 -30.96    659   1.01\n",
      "\n",
      "Samples were drawn using NUTS at Thu Oct 17 09:39:58 2019.\n",
      "For each parameter, n_eff is a crude measure of effective sample size,\n",
      "and Rhat is the potential scale reduction factor on split chains (at \n",
      "convergence, Rhat=1).\n"
     ]
    }
   ],
   "source": [
    "print(fit)"
   ]
  },
  {
   "cell_type": "code",
   "execution_count": 67,
   "metadata": {},
   "outputs": [
    {
     "data": {
      "image/png": "[encoded data removed]",
      "text/plain": [
       "<Figure size 432x288 with 1 Axes>"
      ]
     },
     "metadata": {
      "needs_background": "light"
     },
     "output_type": "display_data"
    }
   ],
   "source": [
    "plt.hist(results['sigma'], bins=20)\n",
    "None"
   ]
  },
  {
   "cell_type": "code",
   "execution_count": 69,
   "metadata": {},
   "outputs": [
    {
     "data": {
      "image/png": "[encoded data removed]",
      "text/plain": [
       "<Figure size 432x288 with 1 Axes>"
      ]
     },
     "metadata": {
      "needs_background": "light"
     },
     "output_type": "display_data"
    }
   ],
   "source": [
    "plt.plot(results['theta'])\n",
    "None"
   ]
  },
  {
   "cell_type": "code",
   "execution_count": 70,
   "metadata": {},
   "outputs": [],
   "source": [
    "import pandas"
   ]
  },
  {
   "cell_type": "code",
   "execution_count": 71,
   "metadata": {},
   "outputs": [],
   "source": [
    "batting_data = pandas.read_csv('data/bats.txt', sep='\\t')"
   ]
  },
  {
   "cell_type": "code",
   "execution_count": 72,
   "metadata": {},
   "outputs": [
    {
     "data": {
      "text/html": [
       "<div>\n",
       "<style scoped>\n",
       "    .dataframe tbody tr th:only-of-type {\n",
       "        vertical-align: middle;\n",
       "    }\n",
       "\n",
       "    .dataframe tbody tr th {\n",
       "        vertical-align: top;\n",
       "    }\n",
       "\n",
       "    .dataframe thead th {\n",
       "        text-align: right;\n",
       "    }\n",
       "</style>\n",
       "<table border=\"1\" class=\"dataframe\">\n",
       "  <thead>\n",
       "    <tr style=\"text-align: right;\">\n",
       "      <th></th>\n",
       "      <th>FirstName</th>\n",
       "      <th>LastName</th>\n",
       "      <th>At-Bats</th>\n",
       "      <th>Hits</th>\n",
       "      <th>BattingAverage</th>\n",
       "      <th>RemainingAt-Bats</th>\n",
       "      <th>RemainingAverage</th>\n",
       "      <th>SeasonAt-Bats</th>\n",
       "      <th>SeasonHits</th>\n",
       "      <th>SeasonAverage</th>\n",
       "    </tr>\n",
       "  </thead>\n",
       "  <tbody>\n",
       "    <tr>\n",
       "      <td>0</td>\n",
       "      <td>Roberto</td>\n",
       "      <td>Clemente</td>\n",
       "      <td>45</td>\n",
       "      <td>18</td>\n",
       "      <td>0.400</td>\n",
       "      <td>367</td>\n",
       "      <td>0.3460</td>\n",
       "      <td>412</td>\n",
       "      <td>145</td>\n",
       "      <td>0.352</td>\n",
       "    </tr>\n",
       "    <tr>\n",
       "      <td>1</td>\n",
       "      <td>Frank</td>\n",
       "      <td>Robinson</td>\n",
       "      <td>45</td>\n",
       "      <td>17</td>\n",
       "      <td>0.378</td>\n",
       "      <td>426</td>\n",
       "      <td>0.2981</td>\n",
       "      <td>471</td>\n",
       "      <td>144</td>\n",
       "      <td>0.306</td>\n",
       "    </tr>\n",
       "    <tr>\n",
       "      <td>2</td>\n",
       "      <td>Frank</td>\n",
       "      <td>Howard</td>\n",
       "      <td>45</td>\n",
       "      <td>16</td>\n",
       "      <td>0.356</td>\n",
       "      <td>521</td>\n",
       "      <td>0.2764</td>\n",
       "      <td>566</td>\n",
       "      <td>160</td>\n",
       "      <td>0.283</td>\n",
       "    </tr>\n",
       "    <tr>\n",
       "      <td>3</td>\n",
       "      <td>Jay</td>\n",
       "      <td>Johnstone</td>\n",
       "      <td>45</td>\n",
       "      <td>15</td>\n",
       "      <td>0.333</td>\n",
       "      <td>275</td>\n",
       "      <td>0.2218</td>\n",
       "      <td>320</td>\n",
       "      <td>76</td>\n",
       "      <td>0.238</td>\n",
       "    </tr>\n",
       "    <tr>\n",
       "      <td>4</td>\n",
       "      <td>Ken</td>\n",
       "      <td>Berry</td>\n",
       "      <td>45</td>\n",
       "      <td>14</td>\n",
       "      <td>0.311</td>\n",
       "      <td>418</td>\n",
       "      <td>0.2727</td>\n",
       "      <td>463</td>\n",
       "      <td>128</td>\n",
       "      <td>0.276</td>\n",
       "    </tr>\n",
       "    <tr>\n",
       "      <td>5</td>\n",
       "      <td>Jim</td>\n",
       "      <td>Spencer</td>\n",
       "      <td>45</td>\n",
       "      <td>14</td>\n",
       "      <td>0.311</td>\n",
       "      <td>466</td>\n",
       "      <td>0.2704</td>\n",
       "      <td>511</td>\n",
       "      <td>140</td>\n",
       "      <td>0.274</td>\n",
       "    </tr>\n",
       "    <tr>\n",
       "      <td>6</td>\n",
       "      <td>Don</td>\n",
       "      <td>Kessinger</td>\n",
       "      <td>45</td>\n",
       "      <td>13</td>\n",
       "      <td>0.289</td>\n",
       "      <td>586</td>\n",
       "      <td>0.2645</td>\n",
       "      <td>631</td>\n",
       "      <td>168</td>\n",
       "      <td>0.266</td>\n",
       "    </tr>\n",
       "    <tr>\n",
       "      <td>7</td>\n",
       "      <td>Luis</td>\n",
       "      <td>Alvarado</td>\n",
       "      <td>45</td>\n",
       "      <td>12</td>\n",
       "      <td>0.267</td>\n",
       "      <td>138</td>\n",
       "      <td>0.2101</td>\n",
       "      <td>183</td>\n",
       "      <td>41</td>\n",
       "      <td>0.224</td>\n",
       "    </tr>\n",
       "    <tr>\n",
       "      <td>8</td>\n",
       "      <td>Ron</td>\n",
       "      <td>Santo</td>\n",
       "      <td>45</td>\n",
       "      <td>11</td>\n",
       "      <td>0.244</td>\n",
       "      <td>510</td>\n",
       "      <td>0.2686</td>\n",
       "      <td>555</td>\n",
       "      <td>148</td>\n",
       "      <td>0.267</td>\n",
       "    </tr>\n",
       "    <tr>\n",
       "      <td>9</td>\n",
       "      <td>Ron</td>\n",
       "      <td>Swaboda</td>\n",
       "      <td>45</td>\n",
       "      <td>11</td>\n",
       "      <td>0.244</td>\n",
       "      <td>200</td>\n",
       "      <td>0.2300</td>\n",
       "      <td>245</td>\n",
       "      <td>57</td>\n",
       "      <td>0.233</td>\n",
       "    </tr>\n",
       "    <tr>\n",
       "      <td>10</td>\n",
       "      <td>Rico</td>\n",
       "      <td>Petrocelli</td>\n",
       "      <td>45</td>\n",
       "      <td>10</td>\n",
       "      <td>0.222</td>\n",
       "      <td>538</td>\n",
       "      <td>0.2639</td>\n",
       "      <td>583</td>\n",
       "      <td>152</td>\n",
       "      <td>0.261</td>\n",
       "    </tr>\n",
       "    <tr>\n",
       "      <td>11</td>\n",
       "      <td>Ellie</td>\n",
       "      <td>Rodriguez</td>\n",
       "      <td>45</td>\n",
       "      <td>10</td>\n",
       "      <td>0.222</td>\n",
       "      <td>186</td>\n",
       "      <td>0.2258</td>\n",
       "      <td>231</td>\n",
       "      <td>52</td>\n",
       "      <td>0.225</td>\n",
       "    </tr>\n",
       "    <tr>\n",
       "      <td>12</td>\n",
       "      <td>George</td>\n",
       "      <td>Scott</td>\n",
       "      <td>45</td>\n",
       "      <td>10</td>\n",
       "      <td>0.222</td>\n",
       "      <td>435</td>\n",
       "      <td>0.3034</td>\n",
       "      <td>480</td>\n",
       "      <td>142</td>\n",
       "      <td>0.296</td>\n",
       "    </tr>\n",
       "    <tr>\n",
       "      <td>13</td>\n",
       "      <td>Del</td>\n",
       "      <td>Unser</td>\n",
       "      <td>45</td>\n",
       "      <td>10</td>\n",
       "      <td>0.222</td>\n",
       "      <td>277</td>\n",
       "      <td>0.2635</td>\n",
       "      <td>322</td>\n",
       "      <td>83</td>\n",
       "      <td>0.258</td>\n",
       "    </tr>\n",
       "    <tr>\n",
       "      <td>14</td>\n",
       "      <td>Billy</td>\n",
       "      <td>Williams</td>\n",
       "      <td>45</td>\n",
       "      <td>10</td>\n",
       "      <td>0.222</td>\n",
       "      <td>591</td>\n",
       "      <td>0.3299</td>\n",
       "      <td>636</td>\n",
       "      <td>205</td>\n",
       "      <td>0.251</td>\n",
       "    </tr>\n",
       "    <tr>\n",
       "      <td>15</td>\n",
       "      <td>Bert</td>\n",
       "      <td>Campaneris</td>\n",
       "      <td>45</td>\n",
       "      <td>9</td>\n",
       "      <td>0.200</td>\n",
       "      <td>558</td>\n",
       "      <td>0.2849</td>\n",
       "      <td>603</td>\n",
       "      <td>168</td>\n",
       "      <td>0.279</td>\n",
       "    </tr>\n",
       "    <tr>\n",
       "      <td>16</td>\n",
       "      <td>Thurman</td>\n",
       "      <td>Munson</td>\n",
       "      <td>45</td>\n",
       "      <td>8</td>\n",
       "      <td>0.178</td>\n",
       "      <td>408</td>\n",
       "      <td>0.3162</td>\n",
       "      <td>453</td>\n",
       "      <td>137</td>\n",
       "      <td>0.302</td>\n",
       "    </tr>\n",
       "    <tr>\n",
       "      <td>17</td>\n",
       "      <td>Max</td>\n",
       "      <td>Alvis</td>\n",
       "      <td>45</td>\n",
       "      <td>7</td>\n",
       "      <td>0.156</td>\n",
       "      <td>70</td>\n",
       "      <td>0.2000</td>\n",
       "      <td>115</td>\n",
       "      <td>21</td>\n",
       "      <td>0.183</td>\n",
       "    </tr>\n",
       "  </tbody>\n",
       "</table>\n",
       "</div>"
      ],
      "text/plain": [
       "   FirstName    LastName  At-Bats  Hits  BattingAverage  RemainingAt-Bats  \\\n",
       "0    Roberto    Clemente       45    18           0.400               367   \n",
       "1      Frank    Robinson       45    17           0.378               426   \n",
       "2      Frank      Howard       45    16           0.356               521   \n",
       "3        Jay   Johnstone       45    15           0.333               275   \n",
       "4        Ken       Berry       45    14           0.311               418   \n",
       "5        Jim     Spencer       45    14           0.311               466   \n",
       "6        Don   Kessinger       45    13           0.289               586   \n",
       "7       Luis    Alvarado       45    12           0.267               138   \n",
       "8        Ron       Santo       45    11           0.244               510   \n",
       "9        Ron     Swaboda       45    11           0.244               200   \n",
       "10      Rico  Petrocelli       45    10           0.222               538   \n",
       "11     Ellie   Rodriguez       45    10           0.222               186   \n",
       "12    George       Scott       45    10           0.222               435   \n",
       "13       Del       Unser       45    10           0.222               277   \n",
       "14     Billy    Williams       45    10           0.222               591   \n",
       "15      Bert  Campaneris       45     9           0.200               558   \n",
       "16   Thurman      Munson       45     8           0.178               408   \n",
       "17       Max       Alvis       45     7           0.156                70   \n",
       "\n",
       "    RemainingAverage  SeasonAt-Bats  SeasonHits  SeasonAverage  \n",
       "0             0.3460            412         145          0.352  \n",
       "1             0.2981            471         144          0.306  \n",
       "2             0.2764            566         160          0.283  \n",
       "3             0.2218            320          76          0.238  \n",
       "4             0.2727            463         128          0.276  \n",
       "5             0.2704            511         140          0.274  \n",
       "6             0.2645            631         168          0.266  \n",
       "7             0.2101            183          41          0.224  \n",
       "8             0.2686            555         148          0.267  \n",
       "9             0.2300            245          57          0.233  \n",
       "10            0.2639            583         152          0.261  \n",
       "11            0.2258            231          52          0.225  \n",
       "12            0.3034            480         142          0.296  \n",
       "13            0.2635            322          83          0.258  \n",
       "14            0.3299            636         205          0.251  \n",
       "15            0.2849            603         168          0.279  \n",
       "16            0.3162            453         137          0.302  \n",
       "17            0.2000            115          21          0.183  "
      ]
     },
     "execution_count": 72,
     "metadata": {},
     "output_type": "execute_result"
    }
   ],
   "source": [
    "batting_data"
   ]
  },
  {
   "cell_type": "code",
   "execution_count": 75,
   "metadata": {},
   "outputs": [],
   "source": [
    "binomial_code = \"\"\"\n",
    "data {\n",
    "    int<lower=0> N;\n",
    "    int<lower=0> k[N]; // at bats\n",
    "    int<lower=0> y[N]; // successes\n",
    "}\n",
    "parameters {\n",
    "    vector<lower=0, upper=1>[N] phi;\n",
    "}\n",
    "model {\n",
    "    y ~ binomial(k, phi);\n",
    "}\n",
    "\"\"\""
   ]
  },
  {
   "cell_type": "code",
   "execution_count": 76,
   "metadata": {},
   "outputs": [
    {
     "name": "stderr",
     "output_type": "stream",
     "text": [
      "INFO:pystan:COMPILING THE C++ CODE FOR MODEL anon_model_9bea96e3c535cc10c969a91dd58519db NOW.\n"
     ]
    }
   ],
   "source": [
    "b_model = pystan.StanModel(model_code=binomial_code)"
   ]
  },
  {
   "cell_type": "code",
   "execution_count": 81,
   "metadata": {},
   "outputs": [],
   "source": [
    "b_fit = b_model.sampling(data={'N': batting_data.shape[0], 'k': batting_data['At-Bats'], 'y': batting_data['Hits']},\n",
    "                    iter=1000, chains=4)"
   ]
  },
  {
   "cell_type": "code",
   "execution_count": null,
   "metadata": {},
   "outputs": [],
   "source": []
  },
  {
   "cell_type": "code",
   "execution_count": 84,
   "metadata": {},
   "outputs": [
    {
     "data": {
      "text/plain": [
       "<matplotlib.collections.PathCollection at 0x12be56610>"
      ]
     },
     "execution_count": 84,
     "metadata": {},
     "output_type": "execute_result"
    },
    {
     "data": {
      "image/png": "[encoded data removed]",
      "text/plain": [
       "<Figure size 432x288 with 1 Axes>"
      ]
     },
     "metadata": {
      "needs_background": "light"
     },
     "output_type": "display_data"
    }
   ],
   "source": [
    "plt.scatter(b_fit.extract()['phi'].mean(axis=0), batting_data['RemainingAverage'])"
   ]
  },
  {
   "cell_type": "code",
   "execution_count": 85,
   "metadata": {},
   "outputs": [
    {
     "data": {
      "text/plain": [
       "<matplotlib.collections.PathCollection at 0x12bc64190>"
      ]
     },
     "execution_count": 85,
     "metadata": {},
     "output_type": "execute_result"
    },
    {
     "data": {
      "image/png": "[encoded data removed]",
      "text/plain": [
       "<Figure size 432x288 with 1 Axes>"
      ]
     },
     "metadata": {
      "needs_background": "light"
     },
     "output_type": "display_data"
    }
   ],
   "source": [
    "plt.scatter(b_fit.extract()['phi'].mean(axis=0), batting_data['BattingAverage'])"
   ]
  },
  {
   "cell_type": "markdown",
   "metadata": {},
   "source": [
    "# Data Pooling\n",
    "\n",
    "We have a hyperprior\n",
    "\n",
    "$$\\kappa \\sim \\operatorname{pareto}(1, 1.5)\\,,$$\n",
    "\n",
    "a prior\n",
    "\n",
    "$$\\phi \\sim \\operatorname{beta}(\\theta\\,\\kappa, (1-\\theta)\\,\\kappa)\\,,$$\n",
    "\n",
    "and the likelihood\n",
    "\n",
    "$$y \\sim \\operatorname{binomial}(k, \\phi)$$\n"
   ]
  },
  {
   "cell_type": "code",
   "execution_count": 87,
   "metadata": {},
   "outputs": [],
   "source": [
    "pooled_code = \"\"\"\n",
    "data {\n",
    "    int<lower=0> N;\n",
    "    int<lower=0> k[N]; // at bats\n",
    "    int<lower=0> y[N]; // successes\n",
    "}\n",
    "parameters {\n",
    "    real<lower=0, upper=1> theta; // population chance of success\n",
    "    real <lower=1> kappa; // concentration or amount of pooling\n",
    "    vector<lower=0, upper=1>[N] phi; // per-player chance of success\n",
    "}\n",
    "model {\n",
    "    kappa ~ pareto(1, 1.5); // hyper prior\n",
    "    phi ~ beta(theta * kappa, (1 - theta)*kappa); // prior\n",
    "    y ~ binomial(k, phi); // likelihood\n",
    "}\n",
    "\"\"\""
   ]
  },
  {
   "cell_type": "code",
   "execution_count": 88,
   "metadata": {},
   "outputs": [
    {
     "name": "stderr",
     "output_type": "stream",
     "text": [
      "INFO:pystan:COMPILING THE C++ CODE FOR MODEL anon_model_af1158bf590fabbd53f0dbe57872f180 NOW.\n"
     ]
    }
   ],
   "source": [
    "pooled_model = pystan.StanModel(model_code=pooled_code)"
   ]
  },
  {
   "cell_type": "code",
   "execution_count": 93,
   "metadata": {},
   "outputs": [],
   "source": [
    "pooled_fit = pooled_model.sampling(data={'N': batting_data.shape[0], 'k': batting_data['At-Bats'], 'y': batting_data['Hits']},\n",
    "                                  iter=1000, chains=4, control={'adapt_delta': 0.99, 'stepsize': 0.01})"
   ]
  },
  {
   "cell_type": "code",
   "execution_count": 94,
   "metadata": {},
   "outputs": [
    {
     "name": "stdout",
     "output_type": "stream",
     "text": [
      "Inference for Stan model: anon_model_af1158bf590fabbd53f0dbe57872f180.\n",
      "4 chains, each with iter=1000; warmup=500; thin=1; \n",
      "post-warmup draws per chain=500, total post-warmup draws=2000.\n",
      "\n",
      "          mean se_mean     sd   2.5%    25%    50%    75%  97.5%  n_eff   Rhat\n",
      "theta     0.27  6.6e-4   0.02   0.23   0.25   0.27   0.28   0.31    953    1.0\n",
      "kappa   104.26   11.55 213.01  15.77   37.7   61.1 110.67  427.6    340   1.01\n",
      "phi[1]    0.32  1.8e-3   0.05   0.24   0.28   0.32   0.35   0.43    779    1.0\n",
      "phi[2]    0.31  1.5e-3   0.05   0.22   0.28   0.31   0.34   0.42   1113    1.0\n",
      "phi[3]     0.3  1.2e-3   0.05   0.22   0.27    0.3   0.33   0.41   1531    1.0\n",
      "phi[4]    0.29  1.1e-3   0.05   0.21   0.26   0.29   0.32    0.4   1918    1.0\n",
      "phi[5]    0.28  9.9e-4   0.05    0.2   0.25   0.28   0.31   0.39   2204    1.0\n",
      "phi[6]    0.28  1.0e-3   0.05    0.2   0.25   0.28   0.31   0.39   1968    1.0\n",
      "phi[7]    0.28  9.8e-4   0.04    0.2   0.25   0.28   0.31   0.37   2079    1.0\n",
      "phi[8]    0.27  9.1e-4   0.04   0.19   0.24   0.26   0.29   0.36   2147    1.0\n",
      "phi[9]    0.26  9.8e-4   0.04   0.17   0.23   0.26   0.28   0.34   1964    1.0\n",
      "phi[10]   0.26  9.8e-4   0.04   0.17   0.23   0.26   0.29   0.34   2038    1.0\n",
      "phi[11]   0.25  1.0e-3   0.04   0.16   0.22   0.25   0.28   0.34   1927    1.0\n",
      "phi[12]   0.25  9.7e-4   0.04   0.17   0.22   0.25   0.28   0.33   1923    1.0\n",
      "phi[13]   0.25  1.1e-3   0.04   0.16   0.22   0.25   0.27   0.33   1652    1.0\n",
      "phi[14]   0.25  1.0e-3   0.04   0.16   0.22   0.25   0.27   0.33   1786   1.01\n",
      "phi[15]   0.25  9.7e-4   0.04   0.16   0.22   0.25   0.28   0.34   2067    1.0\n",
      "phi[16]   0.24  1.1e-3   0.04   0.15   0.21   0.24   0.27   0.32   1590    1.0\n",
      "phi[17]   0.23  1.3e-3   0.04   0.14    0.2   0.23   0.26   0.32   1179    1.0\n",
      "phi[18]   0.22  1.3e-3   0.04   0.14   0.19   0.22   0.25    0.3   1157    1.0\n",
      "lp__    -475.7    0.38   5.67 -486.2 -479.4 -476.0 -472.2 -463.7    222   1.01\n",
      "\n",
      "Samples were drawn using NUTS at Thu Oct 17 10:30:27 2019.\n",
      "For each parameter, n_eff is a crude measure of effective sample size,\n",
      "and Rhat is the potential scale reduction factor on split chains (at \n",
      "convergence, Rhat=1).\n"
     ]
    }
   ],
   "source": [
    "print(pooled_fit)"
   ]
  },
  {
   "cell_type": "code",
   "execution_count": 98,
   "metadata": {},
   "outputs": [
    {
     "name": "stdout",
     "output_type": "stream",
     "text": [
      "Inference for Stan model: anon_model_9bea96e3c535cc10c969a91dd58519db.\n",
      "4 chains, each with iter=1000; warmup=500; thin=1; \n",
      "post-warmup draws per chain=500, total post-warmup draws=2000.\n",
      "\n",
      "          mean se_mean     sd   2.5%    25%    50%    75%  97.5%  n_eff   Rhat\n",
      "phi[1]    0.41  1.1e-3   0.07   0.27   0.36    0.4   0.45   0.55   4442    1.0\n",
      "phi[2]    0.38  1.1e-3   0.07   0.25   0.33   0.38   0.43   0.53   3864    1.0\n",
      "phi[3]    0.36  1.1e-3   0.07   0.23   0.31   0.36   0.41    0.5   4257    1.0\n",
      "phi[4]    0.34  1.0e-3   0.07   0.22   0.29   0.34   0.38   0.47   4213    1.0\n",
      "phi[5]    0.32  1.1e-3   0.07   0.19   0.27   0.31   0.36   0.45   4070    1.0\n",
      "phi[6]    0.32  9.8e-4   0.07    0.2   0.27   0.32   0.37   0.46   5014    1.0\n",
      "phi[7]     0.3  1.0e-3   0.07   0.17   0.25    0.3   0.34   0.44   4151    1.0\n",
      "phi[8]    0.28  9.9e-4   0.06   0.16   0.23   0.27   0.32   0.41   4148    1.0\n",
      "phi[9]    0.26  9.4e-4   0.06   0.14   0.21   0.25   0.29   0.38   4228    1.0\n",
      "phi[10]   0.26  1.0e-3   0.06   0.14   0.21   0.25    0.3   0.39   3994    1.0\n",
      "phi[11]   0.23  9.2e-4   0.06   0.12   0.19   0.23   0.27   0.36   4337    1.0\n",
      "phi[12]   0.23  9.6e-4   0.06   0.13   0.19   0.23   0.27   0.36   3917    1.0\n",
      "phi[13]   0.23  1.1e-3   0.06   0.12   0.19   0.23   0.28   0.37   3377    1.0\n",
      "phi[14]   0.23  8.2e-4   0.06   0.13   0.19   0.23   0.27   0.36   5527    1.0\n",
      "phi[15]   0.23  9.8e-4   0.06   0.12   0.19   0.23   0.27   0.36   3846    1.0\n",
      "phi[16]   0.21  8.2e-4   0.06   0.11   0.17   0.21   0.25   0.34   5522    1.0\n",
      "phi[17]   0.19  8.3e-4   0.06    0.1   0.15   0.19   0.23   0.31   4838    1.0\n",
      "phi[18]   0.17  7.4e-4   0.05   0.08   0.13   0.17    0.2   0.28   5128    1.0\n",
      "lp__    -498.2    0.12   3.12 -505.3 -500.2 -497.7 -496.0 -493.2    668    1.0\n",
      "\n",
      "Samples were drawn using NUTS at Thu Oct 17 09:58:14 2019.\n",
      "For each parameter, n_eff is a crude measure of effective sample size,\n",
      "and Rhat is the potential scale reduction factor on split chains (at \n",
      "convergence, Rhat=1).\n"
     ]
    }
   ],
   "source": [
    "print(b_fit)"
   ]
  },
  {
   "cell_type": "code",
   "execution_count": 100,
   "metadata": {},
   "outputs": [
    {
     "data": {
      "text/plain": [
       "<matplotlib.collections.PathCollection at 0x1281d0690>"
      ]
     },
     "execution_count": 100,
     "metadata": {},
     "output_type": "execute_result"
    },
    {
     "data": {
      "image/png": "[encoded data removed]",
      "text/plain": [
       "<Figure size 432x288 with 1 Axes>"
      ]
     },
     "metadata": {
      "needs_background": "light"
     },
     "output_type": "display_data"
    }
   ],
   "source": [
    "plt.scatter(pooled_fit.extract()['phi'].mean(axis=0), batting_data['RemainingAverage'])"
   ]
  },
  {
   "cell_type": "code",
   "execution_count": 97,
   "metadata": {},
   "outputs": [
    {
     "data": {
      "text/plain": [
       "<matplotlib.collections.PathCollection at 0x12829f590>"
      ]
     },
     "execution_count": 97,
     "metadata": {},
     "output_type": "execute_result"
    },
    {
     "data": {
      "image/png": "[encoded data removed]",
      "text/plain": [
       "<Figure size 432x288 with 1 Axes>"
      ]
     },
     "metadata": {
      "needs_background": "light"
     },
     "output_type": "display_data"
    }
   ],
   "source": [
    "plt.scatter(pooled_fit.extract()['phi'].mean(axis=0), b_fit.extract()['phi'].mean(axis=0))"
   ]
  },
  {
   "cell_type": "code",
   "execution_count": 105,
   "metadata": {},
   "outputs": [
    {
     "data": {
      "image/png": "[encoded data removed]",
      "text/plain": [
       "<Figure size 432x288 with 1 Axes>"
      ]
     },
     "metadata": {
      "needs_background": "light"
     },
     "output_type": "display_data"
    }
   ],
   "source": [
    "plt.scatter([0], [batting_data['BattingAverage'].mean()])\n",
    "plt.scatter([1]*batting_data.shape[0], pooled_fit.extract()['phi'].mean(axis=0))\n",
    "plt.scatter([2]*batting_data.shape[0], b_fit.extract()['phi'].mean(axis=0))\n",
    "plt.xticks([0, 1, 2], ['full pooling', 'partial pooling', 'no pooling'])\n",
    "None"
   ]
  },
  {
   "cell_type": "code",
   "execution_count": null,
   "metadata": {},
   "outputs": [],
   "source": []
  }
 ],
 "metadata": {
  "kernelspec": {
   "display_name": "Python 3",
   "language": "python",
   "name": "python3"
  },
  "language_info": {
   "codemirror_mode": {
    "name": "ipython",
    "version": 3
   },
   "file_extension": ".py",
   "mimetype": "text/x-python",
   "name": "python",
   "nbconvert_exporter": "python",
   "pygments_lexer": "ipython3",
   "version": "3.7.4"
  }
 },
 "nbformat": 4,
 "nbformat_minor": 4
}
